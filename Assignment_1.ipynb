{
  "nbformat": 4,
  "nbformat_minor": 0,
  "metadata": {
    "kernelspec": {
      "display_name": "Python 3",
      "language": "python",
      "name": "python3"
    },
    "language_info": {
      "codemirror_mode": {
        "name": "ipython",
        "version": 3
      },
      "file_extension": ".py",
      "mimetype": "text/x-python",
      "name": "python",
      "nbconvert_exporter": "python",
      "pygments_lexer": "ipython3",
      "version": "3.7.4"
    },
    "colab": {
      "name": "Assignment 1.ipynb",
      "provenance": [],
      "collapsed_sections": [],
      "include_colab_link": true
    }
  },
  "cells": [
    {
      "cell_type": "markdown",
      "metadata": {
        "id": "view-in-github",
        "colab_type": "text"
      },
      "source": [
        "<a href=\"https://colab.research.google.com/github/sanskar-maddi/sanskarmaddi/blob/master/Assignment_1.ipynb\" target=\"_parent\"><img src=\"https://colab.research.google.com/assets/colab-badge.svg\" alt=\"Open In Colab\"/></a>"
      ]
    },
    {
      "cell_type": "markdown",
      "metadata": {
        "id": "_xwHDaoyu20W",
        "colab_type": "text"
      },
      "source": [
        "# PROBLEM 1"
      ]
    },
    {
      "cell_type": "markdown",
      "metadata": {
        "id": "xQ0t1tOVu20Y",
        "colab_type": "raw"
      },
      "source": [
        "You are required to find the 10001 th and 1000001 th prime number. You can use any of the basic python libraries mentioned in this link: https://docs.python.org/3/library/, and numpy, for complemting this assignment. Use of any other libraries is strictly prohibited. Additionally you are required to report the implementation time for you code."
      ]
    },
    {
      "cell_type": "code",
      "metadata": {
        "id": "KfrEewsMu20a",
        "colab_type": "code",
        "colab": {}
      },
      "source": [
        "import time\n",
        "# import all other necessary libraries that you require\n",
        "import itertools\n",
        "from math import ceil, log\n",
        "import sys"
      ],
      "execution_count": 1,
      "outputs": []
    },
    {
      "cell_type": "code",
      "metadata": {
        "id": "02ARJjdqu20g",
        "colab_type": "code",
        "colab": {}
      },
      "source": [
        "#define a function to get the nth position prime number\n",
        "def primes():\n",
        "    '''Yields the sequence of prime numbers via the Sieve of Eratosthenes.'''\n",
        "    D = {}\n",
        "    yield 2\n",
        "    # start counting at 3 and increment by 2, as all primes other than 2 are odd\n",
        "    for q in itertools.count(3, 2):\n",
        "        p = D.pop(q, None)\n",
        "        if p is None:\n",
        "            # q not a key in D, so q is prime, therefore, yield it\n",
        "            yield q\n",
        "            # mark q squared as not-prime (with q as first-found prime factor)\n",
        "            D[q*q] = q\n",
        "        else:\n",
        "            # let x <- smallest (N*p)+q which wasn't yet known to be composite\n",
        "            # we just learned x is composite, with p first-found prime factor,\n",
        "            # since p is the first-found prime factor of q -- find and mark it\n",
        "            x = p + q\n",
        "            while x in D or x % 2 == 0:\n",
        "                x += p\n",
        "            D[x] = p\n",
        "\n",
        "#And then finding the nth prime becomes trivial:\n",
        "\n",
        "def nth_prime(n):\n",
        "    if n < 1:\n",
        "        raise ValueError(\"n must be >= 1 for nth_prime\")\n",
        "    for i, p in enumerate(primes(), 1):\n",
        "        if i == n:\n",
        "            return p"
      ],
      "execution_count": 2,
      "outputs": []
    },
    {
      "cell_type": "code",
      "metadata": {
        "id": "wW1zf620u20k",
        "colab_type": "code",
        "colab": {}
      },
      "source": [
        "start1 = time.time()\n",
        "\n",
        "# your code goes here\n",
        "a=10001\n",
        "p1=nth_prime(int(a))\n",
        "end1 = time.time()\n",
        "\n",
        "start2 = time.time()\n",
        "b=1000001\n",
        "p2=nth_prime(int(b))\n",
        "end2 = time.time()"
      ],
      "execution_count": 3,
      "outputs": []
    },
    {
      "cell_type": "code",
      "metadata": {
        "scrolled": true,
        "id": "kA2fG1tiu20o",
        "colab_type": "code",
        "colab": {
          "base_uri": "https://localhost:8080/",
          "height": 85
        },
        "outputId": "1d5d393a-eb2a-4ada-a104-72cb949fa68a"
      },
      "source": [
        "time1 = end1 - start1\n",
        "time2 = end2 - start2\n",
        "print(f'The 10001th prime number is {p1}')     #10001th prime number\n",
        "print(f'Time taken for implentation of 10001th prime number= {time1}')\n",
        "print(f'The 1000001th prime number is {p2}')   #1000001th prime number\n",
        "print(f'Time taken for implentation of 1000001th prime number= {time2}')"
      ],
      "execution_count": 4,
      "outputs": [
        {
          "output_type": "stream",
          "text": [
            "The 10001th prime number is 104743\n",
            "Time taken for implentation of 10001th prime number= 0.03754162788391113\n",
            "The 1000001th prime number is 15485867\n",
            "Time taken for implentation of 1000001th prime number= 6.319957256317139\n"
          ],
          "name": "stdout"
        }
      ]
    },
    {
      "cell_type": "markdown",
      "metadata": {
        "id": "4N7J6S_mu20u",
        "colab_type": "text"
      },
      "source": [
        "# PROBLEM 2"
      ]
    },
    {
      "cell_type": "markdown",
      "metadata": {
        "id": "AZqA1OZBu20v",
        "colab_type": "raw"
      },
      "source": [
        "For this problem you are required to find the center of the bounding box enclosing the circle in the image \"TEST_im.jpg\".\n",
        "**You are only allowed to use OpenCV, numpy for this problem**"
      ]
    },
    {
      "cell_type": "code",
      "metadata": {
        "id": "6PiRhVCsu20w",
        "colab_type": "code",
        "colab": {}
      },
      "source": [
        "##import all the necesary library\n",
        "import cv2\n",
        "import numpy as np\n",
        "from matplotlib import pyplot as plt"
      ],
      "execution_count": 5,
      "outputs": []
    },
    {
      "cell_type": "code",
      "metadata": {
        "id": "hQhhbaOvu200",
        "colab_type": "code",
        "colab": {}
      },
      "source": [
        "## Read the image\n",
        "img=cv2.imread(\"TEST_im.jpg\")"
      ],
      "execution_count": 20,
      "outputs": []
    },
    {
      "cell_type": "code",
      "metadata": {
        "id": "Cp1vKDscu204",
        "colab_type": "code",
        "colab": {
          "base_uri": "https://localhost:8080/",
          "height": 298
        },
        "outputId": "2bbf61ef-82bd-447d-ab51-c726efb4e6fc"
      },
      "source": [
        "##Find the Bounding box \n",
        "# threshold image\n",
        "ret, threshed_img = cv2.threshold(cv2.cvtColor(img, cv2.COLOR_BGR2GRAY),\n",
        "                127, 255, cv2.THRESH_BINARY)\n",
        "# find contours and get the external one\n",
        "\n",
        "contours, hier = cv2.findContours(threshed_img, cv2.RETR_TREE, cv2.CHAIN_APPROX_SIMPLE)\n",
        "\n",
        "# with each contour, draw boundingRect in green\n",
        "# get the bounding rect\n",
        "x, y, w, h = cv2.boundingRect(contours[0])\n",
        "# draw a green rectangle to visualize the bounding rect\n",
        "cv2.rectangle(img, (x, y), (x+w, y+h), (0, 255, 0), 1)\n",
        "    \n",
        "fig, (ax1, ax2) = plt.subplots(1, 2, figsize=(10,4))\n",
        "ax1.imshow(cv2.imread(\"TEST_im.jpg\"));\n",
        "ax1.set_title('Original Image')\n",
        "ax2.imshow(img);\n",
        "ax2.set_title('Bounding Box for circle')"
      ],
      "execution_count": 21,
      "outputs": [
        {
          "output_type": "execute_result",
          "data": {
            "text/plain": [
              "Text(0.5, 1.0, 'Bounding Box for circle')"
            ]
          },
          "metadata": {
            "tags": []
          },
          "execution_count": 21
        },
        {
          "output_type": "display_data",
          "data": {
            "image/png": "[encoded data removed]",
            "text/plain": [
              "<Figure size 720x288 with 2 Axes>"
            ]
          },
          "metadata": {
            "tags": [],
            "needs_background": "light"
          }
        }
      ]
    },
    {
      "cell_type": "code",
      "metadata": {
        "id": "JHmhCFgQu20-",
        "colab_type": "code",
        "colab": {
          "base_uri": "https://localhost:8080/",
          "height": 51
        },
        "outputId": "bfc31253-5df7-45c2-9626-025478f66384"
      },
      "source": [
        "##Find the center of the bounding box\n",
        "\n",
        "cnt = contours[0]\n",
        "M = cv2.moments(cnt)\n",
        "cx = int(M['m10']/M['m00'])\n",
        "cy = int(M['m01']/M['m00'])\n",
        "print(f'Center of bounding box: x:{x+(w/2)} y:{y+(h/2)}')\n",
        "print(f'Center of contour: x:{cx} y:{cy}')"
      ],
      "execution_count": 22,
      "outputs": [
        {
          "output_type": "stream",
          "text": [
            "Center of bounding box: x:50.5 y:25.5\n",
            "Center of contour: x:50 y:25\n"
          ],
          "name": "stdout"
        }
      ]
    },
    {
      "cell_type": "markdown",
      "metadata": {
        "id": "jWwrGG0cu21B",
        "colab_type": "raw"
      },
      "source": [
        ""
      ]
    }
  ]
}